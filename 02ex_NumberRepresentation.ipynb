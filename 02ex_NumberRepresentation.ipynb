{
 "cells": [
  {
   "cell_type": "markdown",
   "metadata": {},
   "source": [
    "1\\. Write a function that converts number representation, bin<->dec<->hex. (Clearly using the corresponding python built-in functions is not fair..)"
   ]
  },
  {
   "cell_type": "code",
<<<<<<< HEAD
   "metadata": {
    "ExecuteTime": {
     "end_time": "2025-10-23T17:03:17.454943Z",
     "start_time": "2025-10-23T17:03:17.451068Z"
    }
   },
   "source": [
    "\n",
=======
   "execution_count": null,
   "metadata": {},
   "outputs": [],
   "source": [
    "\n",
    "\n",
>>>>>>> af22c74 (finito)
    "def bintodec(x): \n",
    "    odd=(-1)**int(x[0])\n",
    "    n = sum([int(y) * 2**j for j, y in enumerate(x[:0:-1])])\n",
    "    return n*odd\n",
    "    \n",
    "#print(bintodec('01011000'))  \n",
    "\n",
    "def dectobin(x):\n",
    "    n=[]\n",
    "    while x > 0:\n",
    "        bit=x%2\n",
    "        n.append(bit)\n",
    "        x=x//2\n",
    "    return n[::-1]\n",
    "\n",
    "#print(dectobin(88))\n",
    "\n",
    "def dectohex(x):\n",
    "    n=[]\n",
    "    ch=['0','1','2','3','4','5','6','7','8','9','A','B','C','D','E','F']\n",
    "    if x == 0:\n",
    "        return '0'\n",
    "    while x > 0:\n",
    "        i = x%16\n",
    "        n.append(ch[i])\n",
    "        x = x//16\n",
    "    return ''.join(n[::-1])\n",
    "    \n",
    "print(dectohex(89034))\n",
    "\n",
    "\n",
    "def hextodec(x):\n",
    "    n=[]\n",
    "    a=x[::-1]\n",
    "    ch=['0','1','2','3','4','5','6','7','8','9','A','B','C','D','E','F']\n",
    "    for i, l in enumerate(a):\n",
    "        for j, k in enumerate(ch):\n",
    "            if l==k:\n",
    "                n.append(j*16**i)\n",
    "    r = sum(n)\n",
    "    return r\n",
    "\n",
<<<<<<< HEAD
    "print(hextodec('15BCA'))"
   ],
   "outputs": [
    {
     "name": "stdout",
     "output_type": "stream",
     "text": [
      "15BCA\n",
      "89034\n"
     ]
    }
   ],
   "execution_count": 4
=======
    "print(hextodec('15BCA'))\n",
    "\n"
   ]
>>>>>>> af22c74 (finito)
  },
  {
   "cell_type": "markdown",
   "metadata": {},
   "source": [
    "2\\. Write a function that converts a 32 bit word into a single precision floating point (i.e. interprets the various bits as sign, mantissa and exponent)"
   ]
  },
  {
<<<<<<< HEAD
   "metadata": {
    "ExecuteTime": {
     "end_time": "2025-10-23T20:29:28.268732Z",
     "start_time": "2025-10-23T20:29:28.265532Z"
    }
   },
   "cell_type": "code",
=======
   "cell_type": "code",
   "execution_count": 1,
   "metadata": {},
   "outputs": [
    {
     "data": {
      "text/plain": [
       "5.923950021576163e-39"
      ]
     },
     "execution_count": 1,
     "metadata": {},
     "output_type": "execute_result"
    }
   ],
>>>>>>> af22c74 (finito)
   "source": [
    "def convert(x):\n",
    "    odd=(-1)**int(x[0])\n",
    "    esp = int(x[1:9], 2)\n",
    "    mant = 1 + sum([int(k)*2**(-(1+j)) for j, k in enumerate(x[9:32])])\n",
    "    return odd * mant * 2**(esp-127)\n",
    "\n",
    "convert('00000000000000010000001100100000')\n",
    "\n",
    "#funziona solo con numeri normalizzati, se lésponente é zero va tutto in malora"
<<<<<<< HEAD
   ],
   "outputs": [
    {
     "data": {
      "text/plain": [
       "5.923950021576163e-39"
      ]
     },
     "execution_count": 23,
     "metadata": {},
     "output_type": "execute_result"
    }
   ],
   "execution_count": 23
=======
   ]
>>>>>>> af22c74 (finito)
  },
  {
   "cell_type": "markdown",
   "metadata": {},
   "source": [
    "3\\. Write a program to determine the underflow and overflow limits (within a factor of 2) for python on your computer. \n",
    "\n",
    "**Tips**: define two variables inizialized to 1 and halve/double them enough time to exceed the under/over-flow limits"
   ]
  },
  {
<<<<<<< HEAD
   "metadata": {
    "ExecuteTime": {
     "end_time": "2025-10-28T17:15:11.513840Z",
     "start_time": "2025-10-28T17:15:11.510382Z"
    }
   },
   "cell_type": "code",
=======
   "cell_type": "code",
   "execution_count": null,
   "metadata": {},
   "outputs": [],
>>>>>>> af22c74 (finito)
   "source": [
    "x = 1.\n",
    "y = 1.\n",
    "i = 1\n",
    "for i in range(26):\n",
    "    x= x * 10**i\n",
    "    y = y / 10**i\n",
<<<<<<< HEAD
    "    print('i=',i , ',', 'x=',x,',', 'y=',y)\n",
    "\n"
   ],
   "outputs": [
    {
     "name": "stdout",
     "output_type": "stream",
     "text": [
      "i= 0 , x= 1.0 , y= 1.0\n",
      "i= 1 , x= 10.0 , y= 0.1\n",
      "i= 2 , x= 1000.0 , y= 0.001\n",
      "i= 3 , x= 1000000.0 , y= 1e-06\n",
      "i= 4 , x= 10000000000.0 , y= 9.999999999999999e-11\n",
      "i= 5 , x= 1000000000000000.0 , y= 9.999999999999999e-16\n",
      "i= 6 , x= 1e+21 , y= 1e-21\n",
      "i= 7 , x= 1e+28 , y= 9.999999999999999e-29\n",
      "i= 8 , x= 9.999999999999999e+35 , y= 1e-36\n",
      "i= 9 , x= 1e+45 , y= 1e-45\n",
      "i= 10 , x= 9.999999999999999e+54 , y= 1e-55\n",
      "i= 11 , x= 1e+66 , y= 1e-66\n",
      "i= 12 , x= 1e+78 , y= 1e-78\n",
      "i= 13 , x= 1e+91 , y= 1e-91\n",
      "i= 14 , x= 1.0000000000000001e+105 , y= 1e-105\n",
      "i= 15 , x= 1.0000000000000001e+120 , y= 1e-120\n",
      "i= 16 , x= 1.0000000000000002e+136 , y= 1e-136\n",
      "i= 17 , x= 1.0000000000000002e+153 , y= 1e-153\n",
      "i= 18 , x= 1.0000000000000002e+171 , y= 1e-171\n",
      "i= 19 , x= 1e+190 , y= 1e-190\n",
      "i= 20 , x= 1.0000000000000001e+210 , y= 1e-210\n",
      "i= 21 , x= 1e+231 , y= 1e-231\n",
      "i= 22 , x= 1.0000000000000001e+253 , y= 1e-253\n",
      "i= 23 , x= 1e+276 , y= 1e-276\n",
      "i= 24 , x= 1e+300 , y= 1.0000000000000002e-300\n",
      "i= 25 , x= inf , y= 0.0\n"
     ]
    }
   ],
   "execution_count": 16
=======
    "    print('i=',i , ',', 'x=',x,',', 'y=',y)"
   ]
>>>>>>> af22c74 (finito)
  },
  {
   "cell_type": "markdown",
   "metadata": {},
   "source": [
    "4\\. Write a program to determine the machine precision\n",
    "\n",
    "**Tips**: define a new variable by adding a smaller and smaller value (proceeding similarly to prob. 2) to an original variable and check the point where the two are the same"
   ]
  },
  {
<<<<<<< HEAD
   "metadata": {
    "ExecuteTime": {
     "end_time": "2025-10-28T17:29:15.881840Z",
     "start_time": "2025-10-28T17:29:15.879724Z"
    }
   },
   "cell_type": "code",
=======
   "cell_type": "code",
   "execution_count": null,
   "metadata": {},
   "outputs": [],
>>>>>>> af22c74 (finito)
   "source": [
    "eps = 1.\n",
    "while 1. + eps != 1. :\n",
    "    last_eps = eps\n",
    "    eps = eps/2.\n",
    "    if 1. + eps == 1 :\n",
    "        print('precision=', last_eps)"
<<<<<<< HEAD
   ],
   "outputs": [
    {
     "name": "stdout",
     "output_type": "stream",
     "text": [
      "precision= 2.220446049250313e-16\n"
     ]
    }
   ],
   "execution_count": 18
=======
   ]
>>>>>>> af22c74 (finito)
  },
  {
   "cell_type": "markdown",
   "metadata": {},
   "source": [
    "5\\. Write a function that takes in input three parameters $a$, $b$ and $c$ and prints out the two solutions to the quadratic equation $ax^2+bx+c=0$ using the standard formula:\n",
    "$$\n",
    "x=\\frac{-b\\pm\\sqrt{b^2-4ac}}{2a}\n",
    "$$\n",
    "\n",
    "(a) use the program to compute the solution for $a=0.001$, $b=1000$ and $c=0.001$\n",
    "\n",
    "(b) re-express the standard solution formula by multiplying top and bottom by $-b\\mp\\sqrt{b^2-4ac}$ and again find the solution for $a=0.001$, $b=1000$ and $c=0.001$. How does it compare with what previously obtained? Why?\n",
    "\n",
    "(c) write a function that compute the roots of a quadratic equation accurately in all cases"
   ]
  },
  {
<<<<<<< HEAD
   "metadata": {
    "ExecuteTime": {
     "end_time": "2025-10-28T18:04:08.985962Z",
     "start_time": "2025-10-28T18:04:08.982796Z"
    }
   },
   "cell_type": "code",
   "source": [
=======
   "cell_type": "code",
   "execution_count": 7,
   "metadata": {},
   "outputs": [
    {
     "name": "stdout",
     "output_type": "stream",
     "text": [
      "('punto a:', 'x1=', -9.999894245993346e-07, 'x2=', -999999.999999)\n",
      "('punto b:', 'x1=', -1.0000000000009999e-06, 'x2=', -1000010.5755125057)\n",
      "('punto c:', 'x1=', -999999.999999, 'x2=', -1.000000000001e-06)\n"
     ]
    }
   ],
   "source": [
    "\n",
    "\n",
>>>>>>> af22c74 (finito)
    "import math as m\n",
    "\n",
    "def sol(a,b,c):\n",
    "    delta = m.sqrt(b**2 - 4*a*c)\n",
<<<<<<< HEAD
    "    x1 = (-b + delta) / (2*a)\n",
    "    x2 = (-b - delta) / (2*a)\n",
=======
    "    x1 = (-b+delta) / (2*a)\n",
    "    x2 = (-b-delta) / (2*a)\n",
>>>>>>> af22c74 (finito)
    "    return 'punto a:','x1=',x1, 'x2=',x2\n",
    "\n",
    "print(sol(0.001, 1000, 0.001))\n",
    "\n",
    "\n",
    "def bfunc(a,b,c):\n",
    "    delta = m.sqrt(b**2 - 4*a*c)\n",
<<<<<<< HEAD
    "    fat1 = (-b - delta)\n",
    "    fat2 = (-b + delta)\n",
    "    x1 = (fat1*(-b + delta)) / (fat1*(2*a))\n",
    "    x2 = (fat2*(-b - delta)) / (fat2*(2*a))\n",
    "    return 'risultati punto b:', 'x1=',x1, 'x2=',x2\n",
    "\n",
    "print(bfunc(0.001, 1000, 0.001))"
   ],
   "outputs": [
    {
     "name": "stdout",
     "output_type": "stream",
     "text": [
      "('punto a:', 'x1=', -9.999894245993346e-07, 'x2=', -999999.999999)\n",
      "('risultati punto b:', 'x1=', -9.999894245993346e-07, 'x2=', -999999.9999990001)\n"
     ]
    }
   ],
   "execution_count": 27
=======
    "    x1 = (4*a*c) / ((2*a)*(-b-delta))\n",
    "    x2 = (4*a*c) / ((2*a)*(-b+delta))\n",
    "    return 'punto b:','x1=',x1, 'x2=',x2\n",
    "\n",
    "print(bfunc(0.001, 1000, 0.001))\n",
    "\n",
    "\n",
    "#dall'equazione della forma quadratica si ricava la condizione x1x2=c/a da cui ricavo le formule sotto con il q\n",
    "#l'idea è quella di non sottrarre numeri molto simili per non perdere cifre dignificative ma sommarle raccogliendo il segno nei diversi casi\n",
    "def sol_accurata(a,b,c):\n",
    "    delta = m.sqrt(b**2 - 4*a*c)\n",
    "    if b > 0:\n",
    "        q = -0.5*(b+delta)\n",
    "        x1 = q / a\n",
    "        x2 = c / q\n",
    "    else:\n",
    "        q = -0.5*(b-delta)\n",
    "        x1 = q/a\n",
    "        x2 = c/q\n",
    "    return 'punto c:','x1=',x1, 'x2=',x2\n",
    "\n",
    "print(sol_accurata(0.001, 1000, 0.001))\n",
    "    \n",
    "    "
   ]
>>>>>>> af22c74 (finito)
  },
  {
   "cell_type": "markdown",
   "metadata": {},
   "source": [
    "6\\. Write a program that implements the function $f(x)=x(x−1)$\n",
    "\n",
    "(a) Calculate the derivative of the function at the point $x = 1$ using the derivative definition:\n",
    "\n",
    "$$\n",
    "\\frac{{\\rm d}f}{{\\rm d}x} = \\lim_{\\delta\\to0} \\frac{f(x+\\delta)-f(x)}{\\delta}\n",
    "$$\n",
    "\n",
    "with $\\delta = 10^{−2}$. Calculate the true value of the same derivative analytically and compare with the answer your program gives. The two will not agree perfectly. Why not?\n",
    "\n",
    "(b) Repeat the calculation for $\\delta = 10^{−4}, 10^{−6}, 10^{−8}, 10^{−10}, 10^{−12}$ and $10^{−14}$. How does the accuracy scales with $\\delta$?"
   ]
  },
  {
   "cell_type": "code",
   "execution_count": 20,
   "metadata": {},
   "outputs": [
    {
     "name": "stdout",
     "output_type": "stream",
     "text": [
      "0.9992007221626509\n",
      "limite analitico= 1.00000000000001\n"
     ]
    }
   ],
   "source": [
    "def func(x):\n",
    "    return x*(x-1)\n",
    "\n",
    "def limit(delta):\n",
    "    lim = (func(1+delta)-func(1))/delta\n",
    "    return lim\n",
    "\n",
    "print(limit(1e-14))\n",
    "delta=1e-14\n",
    "print('limite analitico=', 1+delta)\n",
    "#quando delta è molto piccolo f(1+delta)e f(1) sono quasi identici e la sottrazione cancella le cifre significatize in comune\n",
    "#la soluzione esplode perchè nel calcolo seguente viene usato del rumore, arrotondamenti fasulli del pc"
   ]
  },
  {
   "cell_type": "markdown",
   "metadata": {},
   "source": [
    "7\\. Consider the integral of the semicircle of radius 1:\n",
    "$$\n",
    "I=\\int_{-1}^{1} \\sqrt(1-x^2) {\\rm d}x\n",
    "$$\n",
    "which it's known to be $I=\\frac{\\pi}{2}=1.57079632679...$.\n",
    "Alternatively we can use the Riemann definition of the integral:\n",
    "$$\n",
    "I=\\lim_{N\\to\\infty} \\sum_{k=1}^{N} h y_k \n",
    "$$\n",
    "\n",
    "with $h=2/N$ the width of each of the $N$ slices the domain is divided into and where\n",
    "$y_k$ is the value of the function at the $k-$th slice.\n",
    "\n",
    "(a) Write a programe to compute the integral with $N=100$. How does the result compares to the true value?\n",
    "\n",
    "(b) How much can $N$ be increased if the computation needs to be run in less than a second? What is the gain in running it for 1 minute? \n"
   ]
  },
  {
   "cell_type": "code",
   "execution_count": 22,
   "metadata": {},
   "outputs": [
    {
     "name": "stdout",
     "output_type": "stream",
     "text": [
      "valore corretto= 1.5707963267948966\n"
     ]
    },
    {
     "data": {
      "text/plain": [
       "('valore computato=', 1.5712827762297956)"
      ]
     },
     "execution_count": 22,
     "metadata": {},
     "output_type": "execute_result"
    }
   ],
   "source": [
    "\n",
    "import numpy as np\n",
    "\n",
    "\n",
    "print('valore corretto=', np.pi/2)\n",
    "\n",
    "def lim(n):\n",
    "    h = 2/n\n",
    "    x = np.linspace(-1+h/2,1-h/2,n) #per non perdere precisione in y, altrimenti 1 e x**2 sono simili\n",
    "    y = np.sqrt(1-x**2)\n",
    "    I = np.sum(h*y)\n",
    "    return 'valore computato=', I\n",
    "\n",
    "lim(100)"
   ]
  },
  {
   "cell_type": "code",
   "execution_count": null,
   "metadata": {},
   "outputs": [],
   "source": []
  }
 ],
 "metadata": {
  "kernelspec": {
   "display_name": "Python 3 (ipykernel)",
   "language": "python",
   "name": "python3"
  },
  "language_info": {
   "codemirror_mode": {
    "name": "ipython",
    "version": 3
   },
   "file_extension": ".py",
   "mimetype": "text/x-python",
   "name": "python",
   "nbconvert_exporter": "python",
   "pygments_lexer": "ipython3",
   "version": "3.12.3"
  }
 },
 "nbformat": 4,
 "nbformat_minor": 2
}
