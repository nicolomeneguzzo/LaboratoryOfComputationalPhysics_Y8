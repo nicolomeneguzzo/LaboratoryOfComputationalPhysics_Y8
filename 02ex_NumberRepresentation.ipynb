{
 "cells": [
  {
   "cell_type": "markdown",
   "metadata": {},
   "source": [
    "1\\. Write a function that converts number representation, bin<->dec<->hex. (Clearly using the corresponding python built-in functions is not fair..)"
   ]
  },
  {
   "cell_type": "code",
   "metadata": {
    "ExecuteTime": {
     "end_time": "2025-10-23T17:03:17.454943Z",
     "start_time": "2025-10-23T17:03:17.451068Z"
    }
   },
   "source": [
    "\n",
    "def bintodec(x): \n",
    "    odd=(-1)**int(x[0])\n",
    "    n = sum([int(y) * 2**j for j, y in enumerate(x[:0:-1])])\n",
    "    return n*odd\n",
    "    \n",
    "#print(bintodec('01011000'))  \n",
    "\n",
    "def dectobin(x):\n",
    "    n=[]\n",
    "    while x > 0:\n",
    "        bit=x%2\n",
    "        n.append(bit)\n",
    "        x=x//2\n",
    "    return n[::-1]\n",
    "\n",
    "#print(dectobin(88))\n",
    "\n",
    "def dectohex(x):\n",
    "    n=[]\n",
    "    ch=['0','1','2','3','4','5','6','7','8','9','A','B','C','D','E','F']\n",
    "    if x == 0:\n",
    "        return '0'\n",
    "    while x > 0:\n",
    "        i = x%16\n",
    "        n.append(ch[i])\n",
    "        x = x//16\n",
    "    return ''.join(n[::-1])\n",
    "    \n",
    "print(dectohex(89034))\n",
    "\n",
    "\n",
    "def hextodec(x):\n",
    "    n=[]\n",
    "    a=x[::-1]\n",
    "    ch=['0','1','2','3','4','5','6','7','8','9','A','B','C','D','E','F']\n",
    "    for i, l in enumerate(a):\n",
    "        for j, k in enumerate(ch):\n",
    "            if l==k:\n",
    "                n.append(j*16**i)\n",
    "    r = sum(n)\n",
    "    return r\n",
    "\n",
    "print(hextodec('15BCA'))"
   ],
   "outputs": [
    {
     "name": "stdout",
     "output_type": "stream",
     "text": [
      "15BCA\n",
      "89034\n"
     ]
    }
   ],
   "execution_count": 4
  },
  {
   "cell_type": "markdown",
   "metadata": {},
   "source": [
    "2\\. Write a function that converts a 32 bit word into a single precision floating point (i.e. interprets the various bits as sign, mantissa and exponent)"
   ]
  },
  {
   "metadata": {
    "ExecuteTime": {
     "end_time": "2025-10-23T20:29:28.268732Z",
     "start_time": "2025-10-23T20:29:28.265532Z"
    }
   },
   "cell_type": "code",
   "source": [
    "def convert(x):\n",
    "    odd=(-1)**int(x[0])\n",
    "    esp = int(x[1:9], 2)\n",
    "    mant = 1 + sum([int(k)*2**(-(1+j)) for j, k in enumerate(x[9:32])])\n",
    "    return odd * mant * 2**(esp-127)\n",
    "\n",
    "convert('00000000000000010000001100100000')\n",
    "\n",
    "#funziona solo con numeri normalizzati, se lésponente é zero va tutto in malora"
   ],
   "outputs": [
    {
     "data": {
      "text/plain": [
       "5.923950021576163e-39"
      ]
     },
     "execution_count": 23,
     "metadata": {},
     "output_type": "execute_result"
    }
   ],
   "execution_count": 23
  },
  {
   "cell_type": "markdown",
   "metadata": {},
   "source": [
    "3\\. Write a program to determine the underflow and overflow limits (within a factor of 2) for python on your computer. \n",
    "\n",
    "**Tips**: define two variables inizialized to 1 and halve/double them enough time to exceed the under/over-flow limits  "
   ]
  },
  {
   "cell_type": "markdown",
   "metadata": {},
   "source": [
    "4\\. Write a program to determine the machine precision\n",
    "\n",
    "**Tips**: define a new variable by adding a smaller and smaller value (proceeding similarly to prob. 2) to an original variable and check the point where the two are the same "
   ]
  },
  {
   "cell_type": "markdown",
   "metadata": {},
   "source": [
    "5\\. Write a function that takes in input three parameters $a$, $b$ and $c$ and prints out the two solutions to the quadratic equation $ax^2+bx+c=0$ using the standard formula:\n",
    "$$\n",
    "x=\\frac{-b\\pm\\sqrt{b^2-4ac}}{2a}\n",
    "$$\n",
    "\n",
    "(a) use the program to compute the solution for $a=0.001$, $b=1000$ and $c=0.001$\n",
    "\n",
    "(b) re-express the standard solution formula by multiplying top and bottom by $-b\\mp\\sqrt{b^2-4ac}$ and again find the solution for $a=0.001$, $b=1000$ and $c=0.001$. How does it compare with what previously obtained? Why?\n",
    "\n",
    "(c) write a function that compute the roots of a quadratic equation accurately in all cases"
   ]
  },
  {
   "cell_type": "markdown",
   "metadata": {},
   "source": [
    "6\\. Write a program that implements the function $f(x)=x(x−1)$\n",
    "\n",
    "(a) Calculate the derivative of the function at the point $x = 1$ using the derivative definition:\n",
    "\n",
    "$$\n",
    "\\frac{{\\rm d}f}{{\\rm d}x} = \\lim_{\\delta\\to0} \\frac{f(x+\\delta)-f(x)}{\\delta}\n",
    "$$\n",
    "\n",
    "with $\\delta = 10^{−2}$. Calculate the true value of the same derivative analytically and compare with the answer your program gives. The two will not agree perfectly. Why not?\n",
    "\n",
    "(b) Repeat the calculation for $\\delta = 10^{−4}, 10^{−6}, 10^{−8}, 10^{−10}, 10^{−12}$ and $10^{−14}$. How does the accuracy scales with $\\delta$?"
   ]
  },
  {
   "cell_type": "markdown",
   "metadata": {},
   "source": [
    "7\\. Consider the integral of the semicircle of radius 1:\n",
    "$$\n",
    "I=\\int_{-1}^{1} \\sqrt(1-x^2) {\\rm d}x\n",
    "$$\n",
    "which it's known to be $I=\\frac{\\pi}{2}=1.57079632679...$.\n",
    "Alternatively we can use the Riemann definition of the integral:\n",
    "$$\n",
    "I=\\lim_{N\\to\\infty} \\sum_{k=1}^{N} h y_k \n",
    "$$\n",
    "\n",
    "with $h=2/N$ the width of each of the $N$ slices the domain is divided into and where\n",
    "$y_k$ is the value of the function at the $k-$th slice.\n",
    "\n",
    "(a) Write a programe to compute the integral with $N=100$. How does the result compares to the true value?\n",
    "\n",
    "(b) How much can $N$ be increased if the computation needs to be run in less than a second? What is the gain in running it for 1 minute? \n"
   ]
  },
  {
   "cell_type": "code",
   "execution_count": null,
   "metadata": {},
   "outputs": [],
   "source": []
  }
 ],
 "metadata": {
  "kernelspec": {
   "display_name": "Python 3 (ipykernel)",
   "language": "python",
   "name": "python3"
  },
  "language_info": {
   "codemirror_mode": {
    "name": "ipython",
    "version": 3
   },
   "file_extension": ".py",
   "mimetype": "text/x-python",
   "name": "python",
   "nbconvert_exporter": "python",
   "pygments_lexer": "ipython3",
   "version": "3.12.3"
  }
 },
 "nbformat": 4,
 "nbformat_minor": 2
}
